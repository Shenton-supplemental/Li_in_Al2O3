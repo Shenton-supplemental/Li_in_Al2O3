{
 "cells": [
  {
   "cell_type": "markdown",
   "metadata": {},
   "source": [
    "# Candidate sites\n",
    "## Supplemental material for _The  <sup>8</sup>Li<sup>+</sup> site in α-Al<sub>2</sub>O<sub>3</sub>_\n",
    "\n",
    "\n",
    "W.A. MacFarlane,<sup>1,2,3</sup> J.K. Shenton,<sup>4,*</sup> Z. Salman,<sup>5</sup> A. Chatzichristos,<sup>2,6,7</sup> D.L. Cortie,<sup>8</sup> M. Dehn,<sup>2,6</sup> D. Fujimoto,<sup>2,3,6</sup> V.L. Karner,<sup>1,3,5</sup> R.F. Kiefl,<sup>2,3,6</sup> D. Koumoulis,<sup>9</sup> C.D.P. Levy,<sup>3</sup> R.M.L. McFadden,<sup>1,2,3</sup> I. McKenzie,<sup>3,10,11</sup> G.D. Morris,<sup>3</sup> M.R. Pearson,<sup>3</sup> M. Stachura,<sup>3</sup> J.O. Ticknor<sup>1,2</sup> \n",
    "\n",
    "<sup><sub>\n",
    "<sup>1 </sup>Chemistry Department, University of British Columbia, Vancouver, BC, V6T 1Z1, Canada\n",
    "<sup>2</sup>Stewart Blusson Quantum Matter Institute, University of British Columbia, Vancouver, BC, V6T 1Z1, Canada\n",
    "<sup>3</sup><span style=\"font-variant:small-caps;\">Triumf</span>, Vancouver, BC, V6T 2A3 Canada\n",
    "<sup>4</sup>Scientific Computing Department, Science & Technology Facilities Council, Rutherford Appleton Laboratory, Didcot OX11 0QX, United Kingdom\n",
    "<sup>5 </sup>Laboratory for Muon Spin Spectroscopy, Paul Scherrer Institute, CH-5232 Villigen PSI, Switzerland\n",
    "<sup>6</sup>Department of Physics and Astronomy, University of British Columbia, Vancouver, BC, V6T 1Z1, Canada\n",
    "<sup>7</sup>Physics Department, Khalifa University, United Arab Emirates\n",
    "<sup>8</sup>Australian Nuclear Science and Technology Organisation, Lucas Heights, New South Wales 2234, Australia\n",
    "<sup>9</sup>Center for Applied Energy Research, University of Kentucky, Lexington, KY 40511, USA\n",
    "<sup>10</sup>Department of Chemistry, Simon Fraser University, Burnaby, BC, V5A 1S6, Canada\n",
    "<sup>11</sup>Department of Physics and Astronomy, University of Waterloo, Waterloo, Ontario, N2L 3G1, Canada\n",
    "</sup></sub>\n",
    "\n",
    "<sup>*</sup>For queries about the supplemental material in this repository contact [J. Kane Shenton](mailto:kane.shenton@stfc.ac.uk).\n",
    "\n",
    "---\n",
    "\n"
   ]
  },
  {
   "cell_type": "markdown",
   "metadata": {},
   "source": [
    "### 1. Summary\n",
    "\n",
    "This notebook contains a brief summary of some key information about each of the sites presented in the paper. Each structure file can be found in the `c./candidate_sites` directory. For further details on the calculation parameters, please see the provided CASTEP input and output files. "
   ]
  },
  {
   "cell_type": "markdown",
   "metadata": {},
   "source": [
    "#### 2. Notebook setup"
   ]
  },
  {
   "cell_type": "code",
   "execution_count": 1,
   "metadata": {},
   "outputs": [],
   "source": [
    "# Import modules and define some useful functions\n",
    "from ase.io import read\n",
    "from soprano.properties.nmr import EFGVzz,EFGAsymmetry\n",
    "from soprano.data.nmr import EFG_TO_CHI\n",
    "import numpy as np\n",
    "\n",
    "def get_nu_Q(atoms,\n",
    "            Li_idx=0,     # Li index \n",
    "            Li8_Q = 32.6, # mbarn for 8Li\n",
    "            Li8_I = 2.0,  # nuclear spin\n",
    "            ):\n",
    "\n",
    "    Vzz = EFGVzz().get(atoms)[Li_idx]\n",
    "    nu_Q = Vzz*EFG_TO_CHI *Li8_Q / (2*Li8_I)\n",
    "    nu_Q *= 1e-3 # convert to kHz\n",
    "    return nu_Q\n",
    "def get_eta(atoms,\n",
    "            Li_idx=0,     # Li index\n",
    "            ):\n",
    "    eta = EFGAsymmetry.get(atoms)[Li_idx]\n",
    "    return eta\n",
    "\n",
    "def get_nn_distances(atoms,\n",
    "                    n, # n closest atoms\n",
    "                    Li_idx = 0,\n",
    "                    ):\n",
    "    '''\n",
    "    Returns a summary of the n closest atoms to the Li site\n",
    "    '''\n",
    "    d = atoms.get_distances(Li_idx, range(len(atoms)), mic=True)\n",
    "    # order (excluding Li iteself)\n",
    "    order = np.argsort(d)[1:]\n",
    "    \n",
    "    summary = f\"The {n} closest atoms to Li are:\\n\"\n",
    "    summary += \"\\t\\t index\\t Element\\t distance\\n\"\n",
    "    for i in range(n):\n",
    "        idx = order[i]\n",
    "        summary += f\"\\t\\t{idx: 4d}\\t    {atoms[idx].symbol: <3}\\t\\t{d[idx]:6.3f} Å\\n\"\n",
    "        \n",
    "\n",
    "    return summary\n",
    "\n",
    "\n",
    "\n",
    "def summarise_site(atoms):\n",
    "    '''\n",
    "    Summarise the nu_Q at the Li site in atoms object\n",
    "    '''\n",
    "    # make sure Li is at index 0 in python terms\n",
    "    assert atoms[0].symbol == 'Li'\n",
    "\n",
    "    nuQ = get_nu_Q(atoms)\n",
    "    eta = get_eta(atoms)\n",
    "    \n",
    "    print(f\"\\tnu_Q = {nuQ:6.2f} kHz,   asymmetry (eta) = {eta:4.2f}\")\n",
    "    print(f'\\t{get_nn_distances(atoms, 8)}')\n"
   ]
  },
  {
   "cell_type": "markdown",
   "metadata": {},
   "source": [
    "### 3. Sites"
   ]
  },
  {
   "cell_type": "code",
   "execution_count": 2,
   "metadata": {},
   "outputs": [
    {
     "name": "stdout",
     "output_type": "stream",
     "text": [
      "Li_sub_Al_charge_minus2  Li_sub_O_charge_plus3\tLi_swap_Al\n",
      "Li_sub_O_charge_plus1\t Li_sub_O_charge_zero\tocta_site\n"
     ]
    }
   ],
   "source": [
    "!ls ./candidate_sites"
   ]
  },
  {
   "cell_type": "code",
   "execution_count": 5,
   "metadata": {},
   "outputs": [
    {
     "name": "stdout",
     "output_type": "stream",
     "text": [
      "Site: Li_i\n",
      "\tnu_Q =  70.90 kHz,   asymmetry (eta) = 0.00\n",
      "\tThe 8 closest atoms to Li are:\n",
      "\t\t index\t Element\t distance\n",
      "\t\t   6\t    O  \t\t 1.942 Å\n",
      "\t\t   2\t    O  \t\t 1.942 Å\n",
      "\t\t   5\t    O  \t\t 1.942 Å\n",
      "\t\t   4\t    O  \t\t 1.943 Å\n",
      "\t\t   3\t    O  \t\t 1.943 Å\n",
      "\t\t   1\t    O  \t\t 1.943 Å\n",
      "\t\t 164\t    Al \t\t 2.149 Å\n",
      "\t\t 166\t    Al \t\t 2.150 Å\n",
      "\n",
      "Site: Li_Al,Al_i\n",
      "\tnu_Q =  70.69 kHz,   asymmetry (eta) = 0.00\n",
      "\tThe 8 closest atoms to Li are:\n",
      "\t\t index\t Element\t distance\n",
      "\t\t  15\t    O  \t\t 1.832 Å\n",
      "\t\t  37\t    O  \t\t 1.832 Å\n",
      "\t\t 110\t    O  \t\t 1.832 Å\n",
      "\t\t   4\t    O  \t\t 2.103 Å\n",
      "\t\t   5\t    O  \t\t 2.103 Å\n",
      "\t\t   6\t    O  \t\t 2.103 Å\n",
      "\t\t 163\t    Al \t\t 2.188 Å\n",
      "\t\t 164\t    Al \t\t 2.248 Å\n",
      "\n",
      "Site: Li_Al\n",
      "\tnu_Q =  16.35 kHz,   asymmetry (eta) = 0.00\n",
      "\tThe 8 closest atoms to Li are:\n",
      "\t\t index\t Element\t distance\n",
      "\t\t   5\t    O  \t\t 1.913 Å\n",
      "\t\t   4\t    O  \t\t 1.913 Å\n",
      "\t\t   6\t    O  \t\t 1.913 Å\n",
      "\t\t  15\t    O  \t\t 2.182 Å\n",
      "\t\t  37\t    O  \t\t 2.182 Å\n",
      "\t\t 110\t    O  \t\t 2.182 Å\n",
      "\t\t 163\t    Al \t\t 2.666 Å\n",
      "\t\t 171\t    Al \t\t 2.726 Å\n",
      "\n",
      "Site: Li-V_O+1\n",
      "\tnu_Q =  68.58 kHz,   asymmetry (eta) = 0.05\n",
      "\tThe 8 closest atoms to Li are:\n",
      "\t\t index\t Element\t distance\n",
      "\t\t   5\t    O  \t\t 1.930 Å\n",
      "\t\t   4\t    O  \t\t 1.935 Å\n",
      "\t\t   3\t    O  \t\t 1.943 Å\n",
      "\t\t   1\t    O  \t\t 1.943 Å\n",
      "\t\t   2\t    O  \t\t 1.946 Å\n",
      "\t\t 163\t    Al \t\t 2.146 Å\n",
      "\t\t 165\t    Al \t\t 2.148 Å\n",
      "\t\t 188\t    Al \t\t 2.724 Å\n",
      "\n",
      "Site: Li-V_O+3\n",
      "\tnu_Q =  63.93 kHz,   asymmetry (eta) = 0.54\n",
      "\tThe 8 closest atoms to Li are:\n",
      "\t\t index\t Element\t distance\n",
      "\t\t   3\t    O  \t\t 1.828 Å\n",
      "\t\t   2\t    O  \t\t 1.863 Å\n",
      "\t\t   1\t    O  \t\t 1.877 Å\n",
      "\t\t   4\t    O  \t\t 1.937 Å\n",
      "\t\t   5\t    O  \t\t 1.959 Å\n",
      "\t\t 165\t    Al \t\t 2.149 Å\n",
      "\t\t 163\t    Al \t\t 2.263 Å\n",
      "\t\t 236\t    Al \t\t 2.680 Å\n",
      "\n"
     ]
    }
   ],
   "source": [
    "basedir = './candidate_sites'\n",
    "sites  = {\n",
    "        'Li_i'      : 'octa_site',\n",
    "        'Li_Al,Al_i': 'Li_swap_Al',\n",
    "        'Li_Al'     : 'Li_sub_Al_charge_minus2',\n",
    "        'Li-V_O+1'  : 'Li_sub_O_charge_plus1',\n",
    "        'Li-V_O+3'  : 'Li_sub_O_charge_plus3',\n",
    "        }\n",
    "\n",
    "for site, path in sites.items():\n",
    "    print(f'Site: {site}')\n",
    "    atoms =  read(f'{basedir}/{path}/nmr.magres')\n",
    "    summarise_site(atoms)\n"
   ]
  }
 ],
 "metadata": {
  "kernelspec": {
   "display_name": "Python 3.10.6 ('al2o3_SM')",
   "language": "python",
   "name": "python3"
  },
  "language_info": {
   "codemirror_mode": {
    "name": "ipython",
    "version": 3
   },
   "file_extension": ".py",
   "mimetype": "text/x-python",
   "name": "python",
   "nbconvert_exporter": "python",
   "pygments_lexer": "ipython3",
   "version": "3.10.6"
  },
  "orig_nbformat": 4,
  "vscode": {
   "interpreter": {
    "hash": "a79850de25aa1644d9409e51e5e209e30fdc5f5c0a8d78a55f006fb285e7474a"
   }
  }
 },
 "nbformat": 4,
 "nbformat_minor": 2
}
