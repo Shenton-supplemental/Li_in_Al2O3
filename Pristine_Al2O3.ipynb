{
 "cells": [
  {
   "cell_type": "markdown",
   "metadata": {},
   "source": [
    "# Pristine α-Al<sub>2</sub>O<sub>3</sub>\n",
    "## Supplemental material for _The  <sup>8</sup>Li<sup>+</sup> site in α-Al<sub>2</sub>O<sub>3</sub>_\n",
    "\n",
    "W.A. MacFarlane,<sup>1,2,3</sup> J.K. Shenton,<sup>4,*</sup> Z. Salman,<sup>5</sup> A. Chatzichristos,<sup>2,6,7</sup> D.L. Cortie,<sup>8</sup> M. Dehn,<sup>2,6</sup> D. Fujimoto,<sup>2,3,6</sup> V.L. Karner,<sup>1,3,5</sup> R.F. Kiefl,<sup>2,3,6</sup> D. Koumoulis,<sup>9</sup> C.D.P. Levy,<sup>3</sup> R.M.L. McFadden,<sup>1,2,3</sup> I. McKenzie,<sup>3,10,11</sup> G.D. Morris,<sup>3</sup> M.R. Pearson,<sup>3</sup> M. Stachura,<sup>3</sup> J.O. Ticknor<sup>1,2</sup> \n",
    "\n",
    "<sup><sub>\n",
    "<sup>1 </sup>Chemistry Department, University of British Columbia, Vancouver, BC, V6T 1Z1, Canada\n",
    "<sup>2</sup>Stewart Blusson Quantum Matter Institute, University of British Columbia, Vancouver, BC, V6T 1Z1, Canada\n",
    "<sup>3</sup><span style=\"font-variant:small-caps;\">Triumf</span>, Vancouver, BC, V6T 2A3 Canada\n",
    "<sup>4</sup>Scientific Computing Department, Science & Technology Facilities Council, Rutherford Appleton Laboratory, Didcot OX11 0QX, United Kingdom\n",
    "<sup>5 </sup>Laboratory for Muon Spin Spectroscopy, Paul Scherrer Institute, CH-5232 Villigen PSI, Switzerland\n",
    "<sup>6</sup>Department of Physics and Astronomy, University of British Columbia, Vancouver, BC, V6T 1Z1, Canada\n",
    "<sup>7</sup>Physics Department, Khalifa University, United Arab Emirates\n",
    "<sup>8</sup>Australian Nuclear Science and Technology Organisation, Lucas Heights, New South Wales 2234, Australia\n",
    "<sup>9</sup>Center for Applied Energy Research, University of Kentucky, Lexington, KY 40511, USA\n",
    "<sup>10</sup>Department of Chemistry, Simon Fraser University, Burnaby, BC, V5A 1S6, Canada\n",
    "<sup>11</sup>Department of Physics and Astronomy, University of Waterloo, Waterloo, Ontario, N2L 3G1, Canada\n",
    "</sup></sub>\n",
    "\n",
    "<sup>*</sup>For queries about the supplemental material in this repository contact [J. Kane Shenton](mailto:kane.shenton@stfc.ac.uk).\n",
    "\n",
    "---\n",
    "\n",
    "\n",
    "In this notebook we report structural and electronic details and calculated NMR parameters for our fully PBEsol-relaxed α-Al<sub>2</sub>O<sub>3</sub> structure.\n",
    "\n",
    "First, we plot the projected density of states:\n",
    "\n",
    "<img src=\"./pristine_Al2O3/dos.png?\" width=\"50%\">\n",
    "\n",
    "\n",
    "See `./pristine_Al2O3/dos.pdf` for a vector version of this plot. \n",
    "\n"
   ]
  },
  {
   "cell_type": "code",
   "execution_count": 35,
   "metadata": {},
   "outputs": [
    {
     "name": "stdout",
     "output_type": "stream",
     "text": [
      "\n",
      "Spacegroup: R-3c (167)\n",
      "\n",
      "The unit cell parameters are:\n",
      "Rhombohedral setting:\n",
      "    a =   5.1387 Å\n",
      "    α =  55.337°\n",
      "Hexagonal setting:\n",
      "    a = b =   4.7724 Å\n",
      "    c     =  13.0127 Å\n",
      "    α = β =  90.000°\n",
      "    γ     = 120.000°\n",
      "\n",
      "Fractional coordinates (rhombohedral):\n",
      "O     0.55610  0.94390  0.25000\n",
      "O     0.94390  0.25000  0.55610\n",
      "O     0.25000  0.55610  0.94390\n",
      "O     0.05610  0.75000  0.44390\n",
      "O     0.75000  0.44390  0.05610\n",
      "O     0.44390  0.05610  0.75000\n",
      "Al    0.14792  0.14792  0.14792\n",
      "Al    0.64792  0.64792  0.64792\n",
      "Al    0.85208  0.85208  0.85208\n",
      "Al    0.35208  0.35208  0.35208\n"
     ]
    }
   ],
   "source": [
    "# Read in fully relaxed structure (also containing NMR data)\n",
    "from ase.io import read\n",
    "from ase import Atoms\n",
    "import spglib \n",
    "atoms = read('./pristine_Al2O3/al2o3_xc-PBESOL_c-0900_k-5x5x5_nmr.magres')\n",
    "sg = spglib.get_spacegroup(atoms)\n",
    "\n",
    "## converted to standardised (hexagonal) cell and write out to a CIF file:\n",
    "cell, coords, numbers = spglib.standardize_cell(atoms)\n",
    "atoms_hex = Atoms(cell=cell, scaled_positions = coords, numbers=numbers, pbc=True)\n",
    "atoms_hex.write('./pristine_Al2O3/PBEsol_relaxed_hexagonal_cell_setting.cif')\n",
    "\n",
    "# Print summary of the structure\n",
    "print(f'''\n",
    "Spacegroup: {sg}\n",
    "\n",
    "The unit cell parameters are:\n",
    "Rhombohedral setting:\n",
    "    a = {atoms.cell.cellpar()[:2].mean():8.4f} Å\n",
    "    α = {atoms.cell.cellpar()[3:].mean():7.3f}°\n",
    "Hexagonal setting:\n",
    "    a = b = {atoms_hex.cell.cellpar()[:1].mean():8.4f} Å\n",
    "    c     = {atoms_hex.cell.cellpar()[2]:8.4f} Å\n",
    "    α = β = {atoms_hex.cell.cellpar()[3:4].mean():7.3f}°\n",
    "    γ     = {atoms_hex.cell.cellpar()[5].mean():7.3f}°\n",
    "'''\n",
    ")\n",
    "print('Fractional coordinates (rhombohedral):')\n",
    "for atom in atoms:\n",
    "    print(f'{atom.symbol: <3}  {atom.a:8.5f} {atom.b:8.5f} {atom.c:8.5f}')\n"
   ]
  },
  {
   "cell_type": "markdown",
   "metadata": {},
   "source": [
    "We can access all the magnetic shielding and electric field gradient tensors like this:\n",
    "\n",
    "```python\n",
    "print('Magnetic shielding: ', atoms.get_array('ms'))\n",
    "print('EFG tensors: ', atoms.get_array('efg'))\n",
    "```\n",
    "\n",
    "We can also visualise the MS and EFG tensors using the [MagresView](https://www.ccpnc.ac.uk/magresview/magresview/magres_view.html?JS) web-app.\n",
    "\n",
    "\n",
    "\n",
    "For our purposes, however, we can simply look at the CASTEP output file directly."
   ]
  },
  {
   "cell_type": "code",
   "execution_count": 29,
   "metadata": {},
   "outputs": [
    {
     "name": "stdout",
     "output_type": "stream",
     "text": [
      "                          Electric Quadrupole Moment (Barn)\n",
      "                                    O   -0.0255800 Isotope 17\n",
      "                                    Al    0.1466000 Isotope 27\n",
      "\n",
      "  ===============================================================================\n",
      "  |                Chemical Shielding and Electric Field Gradient Tensors       |\n",
      "  |-----------------------------------------------------------------------------|\n",
      "  |     Nucleus                       Shielding tensor             EFG Tensor   |\n",
      "  |    Species            Ion    Iso(ppm)   Aniso(ppm)  Asym    Cq(MHz)    Eta  |\n",
      "  |    O                  1      169.85      -5.36      0.87   2.259E+00   0.50 |\n",
      "  |    O                  2      169.85      -5.36      0.87   2.259E+00   0.50 |\n",
      "  |    O                  3      169.85      -5.36      0.87   2.259E+00   0.50 |\n",
      "  |    O                  4      169.85      -5.36      0.87   2.259E+00   0.50 |\n",
      "  |    O                  5      169.85      -5.36      0.87   2.259E+00   0.50 |\n",
      "  |    O                  6      169.85      -5.36      0.87   2.259E+00   0.50 |\n",
      "  |    Al                 1      535.94     -13.35      0.00   2.305E+00   0.00 |\n",
      "  |    Al                 2      535.94     -13.35      0.00   2.305E+00   0.00 |\n",
      "  |    Al                 3      535.94     -13.35      0.00   2.305E+00   0.00 |\n",
      "  |    Al                 4      535.94     -13.35      0.00   2.305E+00   0.00 |\n",
      "  ===============================================================================\n"
     ]
    }
   ],
   "source": [
    "castep_out_file = './pristine_Al2O3/al2o3_xc-PBESOL_c-0900_k-5x5x5_nmr.castep'\n",
    "\n",
    "# make sure we know what isotope was used:\n",
    "!grep -A 3 \"Electric Quadrupole Moment (Barn)\" $castep_out_file\n",
    "\n",
    "# Search the .castep file for the NMR summary:\n",
    "!grep -A 14 -B 1 \"Chemical Shielding and Electric Field Gradient Tensors\" $castep_out_file"
   ]
  },
  {
   "cell_type": "markdown",
   "metadata": {},
   "source": [
    "We see that the $^{27}\\mathrm{Al}$ quadrupolar coupling constant is calculated to be 2.305 MHz, in excellent agreement with the [experimentally determined](https://doi.org/10.5012/bkcs.1999.20.10.1205) value of of 2.30(4) MHz."
   ]
  },
  {
   "cell_type": "markdown",
   "metadata": {},
   "source": [
    "#### Density of States\n",
    "\n",
    "\n",
    "We can use the [sumo](https://doi.org/10.21105/joss.00717) code to plot a projected density of states figure:\n"
   ]
  },
  {
   "cell_type": "code",
   "execution_count": 40,
   "metadata": {},
   "outputs": [
    {
     "name": "stdout",
     "output_type": "stream",
     "text": [
      "Found PDOS binary file ./pristine_Al2O3/al2o3_xc-PBESOL_c-0900_k-5x5x5_dos.pdos_bin; including PDOS in the plot.\n",
      "Reading CASTEP .bands file header...\n",
      "nbands: 43, efermi / Ry: 0.355152, spin channels: 1\n",
      "Reading band eigenvalues...\n",
      "Electronic structure appears to have a bandgap\n",
      "Setting energy zero to VBM\n",
      "findfont: Font family ['sans-serif'] not found. Falling back to DejaVu Sans.\n",
      "findfont: Generic family 'sans-serif' not found because none of the following families were found: Whitney Pro, Whitney Book Extended, Catamaran, Helvetica, Liberation Sans, Andale Sans, Arial\n",
      "Found PDOS binary file ./pristine_Al2O3/al2o3_xc-PBESOL_c-0900_k-5x5x5_dos.pdos_bin; including PDOS in the plot.\n",
      "Reading CASTEP .bands file header...\n",
      "nbands: 43, efermi / Ry: 0.355152, spin channels: 1\n",
      "Reading band eigenvalues...\n",
      "Electronic structure appears to have a bandgap\n",
      "Setting energy zero to VBM\n",
      "findfont: Font family ['sans-serif'] not found. Falling back to DejaVu Sans.\n",
      "findfont: Generic family 'sans-serif' not found because none of the following families were found: Whitney Pro, Whitney Book Extended, Catamaran, Helvetica, Liberation Sans, Andale Sans, Arial\n",
      "Found PDOS binary file ./pristine_Al2O3/al2o3_xc-PBESOL_c-0900_k-5x5x5_dos.pdos_bin; including PDOS in the plot.\n",
      "Reading CASTEP .bands file header...\n",
      "nbands: 43, efermi / Ry: 0.355152, spin channels: 1\n",
      "Reading band eigenvalues...\n",
      "Electronic structure appears to have a bandgap\n",
      "Setting energy zero to VBM\n",
      "findfont: Font family ['sans-serif'] not found. Falling back to DejaVu Sans.\n",
      "findfont: Generic family 'sans-serif' not found because none of the following families were found: Whitney Pro, Whitney Book Extended, Catamaran, Helvetica, Liberation Sans, Andale Sans, Arial\n"
     ]
    }
   ],
   "source": [
    "!sumo-dosplot --code castep -f ./pristine_Al2O3/al2o3_xc-PBESOL_c-0900_k-5x5x5_dos.bands  -g 0.1 --xmax 20 --xmin -20 -d ./pristine_Al2O3/\n",
    "!mv ./pristine_Al2O3/dos.pdf ./pristine_Al2O3/dos_large_erange.pdf\n",
    "\n",
    "!sumo-dosplot --code castep -f ./pristine_Al2O3/al2o3_xc-PBESOL_c-0900_k-5x5x5_dos.bands  -g 0.1 --xmax 10 --xmin -8 -d ./pristine_Al2O3/\n",
    "!sumo-dosplot --code castep -f ./pristine_Al2O3/al2o3_xc-PBESOL_c-0900_k-5x5x5_dos.bands  -g 0.1 --xmax 10 --xmin -8 -d ./pristine_Al2O3/ --format png --dpi 600"
   ]
  }
 ],
 "metadata": {
  "kernelspec": {
   "display_name": "Python 3.10.6 ('al2o3_SM')",
   "language": "python",
   "name": "python3"
  },
  "language_info": {
   "codemirror_mode": {
    "name": "ipython",
    "version": 3
   },
   "file_extension": ".py",
   "mimetype": "text/x-python",
   "name": "python",
   "nbconvert_exporter": "python",
   "pygments_lexer": "ipython3",
   "version": "3.10.6"
  },
  "orig_nbformat": 4,
  "vscode": {
   "interpreter": {
    "hash": "a79850de25aa1644d9409e51e5e209e30fdc5f5c0a8d78a55f006fb285e7474a"
   }
  }
 },
 "nbformat": 4,
 "nbformat_minor": 2
}
